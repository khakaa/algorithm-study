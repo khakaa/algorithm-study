{
 "cells": [
  {
   "cell_type": "markdown",
   "id": "1d1412fc",
   "metadata": {},
   "source": [
    "프로그래머스 - 자연수 뒤집어 배열로 만들기"
   ]
  },
  {
   "cell_type": "code",
   "execution_count": 47,
   "id": "72ff31bd",
   "metadata": {},
   "outputs": [
    {
     "data": {
      "text/plain": [
       "[5, 4, 3, 2, 1]"
      ]
     },
     "execution_count": 47,
     "metadata": {},
     "output_type": "execute_result"
    }
   ],
   "source": [
    "n = 12345\n",
    "\n",
    "def solution(n):\n",
    "    answer = [int(i) for i in str(n)]\n",
    "    answer.sort(reverse=True)\n",
    "    return answer\n",
    "\n",
    "solution(n)\n",
    "\n",
    "# 위코드 정확성검사 15.3 "
   ]
  },
  {
   "cell_type": "code",
   "execution_count": null,
   "id": "50edd50e",
   "metadata": {},
   "outputs": [],
   "source": [
    "def solution(n):\n",
    "    arr = list(str(n))\n",
    "    arr.reverse()\n",
    "    \n",
    "    return list(map(int, arr))"
   ]
  }
 ],
 "metadata": {
  "kernelspec": {
   "display_name": "Python 3 (ipykernel)",
   "language": "python",
   "name": "python3"
  },
  "language_info": {
   "codemirror_mode": {
    "name": "ipython",
    "version": 3
   },
   "file_extension": ".py",
   "mimetype": "text/x-python",
   "name": "python",
   "nbconvert_exporter": "python",
   "pygments_lexer": "ipython3",
   "version": "3.9.12"
  }
 },
 "nbformat": 4,
 "nbformat_minor": 5
}
